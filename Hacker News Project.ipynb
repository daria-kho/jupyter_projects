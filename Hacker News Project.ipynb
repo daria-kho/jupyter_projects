{
 "cells": [
  {
   "cell_type": "markdown",
   "metadata": {
    "collapsed": true
   },
   "source": [
    "# Hacker News Posts  \n",
    "\n",
    "In this project I will analyse a reduced version of [this dataset](https://www.kaggle.com/hacker-news/hacker-news-posts). The original dataset contains stats on posts from September 2015 to September 2016. The columns are as follows:\n",
    "\n",
    "* title: title of the post (self explanatory)\n",
    "\n",
    "* url: the url of the item being linked to\n",
    "\n",
    "* num_points: the number of upvotes the post received\n",
    "\n",
    "* num_comments: the number of comments the post received\n",
    "\n",
    "* author: the name of the account that made the post\n",
    "\n",
    "* created_at: the date and time the post was made (the time zone is Eastern Time in the US)\n",
    "\n",
    "The focus of the analysis will be placed on the posts that start with Ask HN, the ones that pose a question to the community, and Show HN, the ones that share something.  \n",
    "**The project's aim** is to find out which posts recieve more comments and whether there is a specific timing for more commented posts.\n",
    "***\n",
    "\n",
    "## Exploring the data\n",
    "\n",
    "First, I will read in the dataset.\n"
   ]
  },
  {
   "cell_type": "code",
   "execution_count": 1,
   "metadata": {
    "scrolled": true
   },
   "outputs": [
    {
     "name": "stdout",
     "output_type": "stream",
     "text": [
      "[['id', 'title', 'url', 'num_points', 'num_comments', 'author', 'created_at'], ['12224879', 'Interactive Dynamic Video', 'http://www.interactivedynamicvideo.com/', '386', '52', 'ne0phyte', '8/4/2016 11:52'], ['10975351', 'How to Use Open Source and Shut the Fuck Up at the Same Time', 'http://hueniverse.com/2016/01/26/how-to-use-open-source-and-shut-the-fuck-up-at-the-same-time/', '39', '10', 'josep2', '1/26/2016 19:30'], ['11964716', \"Florida DJs May Face Felony for April Fools' Water Joke\", 'http://www.thewire.com/entertainment/2013/04/florida-djs-april-fools-water-joke/63798/', '2', '1', 'vezycash', '6/23/2016 22:20'], ['11919867', 'Technology ventures: From Idea to Enterprise', 'https://www.amazon.com/Technology-Ventures-Enterprise-Thomas-Byers/dp/0073523429', '3', '1', 'hswarna', '6/17/2016 0:01']]\n"
     ]
    }
   ],
   "source": [
    "from csv import reader \n",
    "opened_file = open('hacker_news.csv')\n",
    "read_file = reader (opened_file)\n",
    "hn = list(read_file)\n",
    "print (hn[:5])\n",
    "\n"
   ]
  },
  {
   "cell_type": "markdown",
   "metadata": {},
   "source": [
    "To make my data ready for analysis, I will remove the header row and store it in a variable apart. "
   ]
  },
  {
   "cell_type": "code",
   "execution_count": 2,
   "metadata": {
    "scrolled": false
   },
   "outputs": [
    {
     "name": "stdout",
     "output_type": "stream",
     "text": [
      "['id', 'title', 'url', 'num_points', 'num_comments', 'author', 'created_at']\n",
      "[['12224879', 'Interactive Dynamic Video', 'http://www.interactivedynamicvideo.com/', '386', '52', 'ne0phyte', '8/4/2016 11:52'], ['10975351', 'How to Use Open Source and Shut the Fuck Up at the Same Time', 'http://hueniverse.com/2016/01/26/how-to-use-open-source-and-shut-the-fuck-up-at-the-same-time/', '39', '10', 'josep2', '1/26/2016 19:30'], ['11964716', \"Florida DJs May Face Felony for April Fools' Water Joke\", 'http://www.thewire.com/entertainment/2013/04/florida-djs-april-fools-water-joke/63798/', '2', '1', 'vezycash', '6/23/2016 22:20'], ['11919867', 'Technology ventures: From Idea to Enterprise', 'https://www.amazon.com/Technology-Ventures-Enterprise-Thomas-Byers/dp/0073523429', '3', '1', 'hswarna', '6/17/2016 0:01'], ['10301696', 'Note by Note: The Making of Steinway L1037 (2007)', 'http://www.nytimes.com/2007/11/07/movies/07stein.html?_r=0', '8', '2', 'walterbell', '9/30/2015 4:12']]\n"
     ]
    }
   ],
   "source": [
    "headers = hn[0]\n",
    "hn = hn[1:]\n",
    "print(headers)\n",
    "\n",
    "print (hn[:5])"
   ]
  },
  {
   "cell_type": "markdown",
   "metadata": {},
   "source": [
    "## Ask or Share\n",
    "\n",
    "Now I will try to find out which category of HN posts receives more involvement from the community. I will measure this by comparing the amount of comments under the posts starting with Ask HN and Show HN.\n",
    "First, I will need to put those two groups of posts apart. I will create three separate lists: Ask posts, Show posts and Other posts. "
   ]
  },
  {
   "cell_type": "code",
   "execution_count": 3,
   "metadata": {
    "scrolled": true
   },
   "outputs": [
    {
     "name": "stdout",
     "output_type": "stream",
     "text": [
      "Ask posts:  1742\n",
      "Show posts:  1161\n",
      "Other posts:  17197\n"
     ]
    }
   ],
   "source": [
    "ask_posts = []\n",
    "show_posts = []\n",
    "other_posts = []\n",
    "\n",
    "for row in hn:\n",
    "    title = row [1]\n",
    "    if title.startswith('Ask HN'):\n",
    "        ask_posts.append(row)\n",
    "    elif title.startswith('Show HN'):\n",
    "        show_posts.append(row)\n",
    "    else:\n",
    "        other_posts.append(row)\n",
    "        \n",
    "print(\"Ask posts: \", len (ask_posts))\n",
    "print(\"Show posts: \", len(show_posts))\n",
    "print(\"Other posts: \", len(other_posts))\n",
    "\n",
    "\n"
   ]
  },
  {
   "cell_type": "markdown",
   "metadata": {},
   "source": [
    "Now that we have the Ask posts separated form the Show posts, we can compare the average amount of comments under each category of posts. "
   ]
  },
  {
   "cell_type": "code",
   "execution_count": 4,
   "metadata": {},
   "outputs": [
    {
     "name": "stdout",
     "output_type": "stream",
     "text": [
      "Average number of comments per Ask post:  14.044776119402986\n",
      "Average number of comments per Show post:  10.324720068906116\n"
     ]
    }
   ],
   "source": [
    "#Calculate average number of comments per Ask post\n",
    "total_ask_comments = 0\n",
    "for row in ask_posts:\n",
    "    num_com = int(row[4])\n",
    "    total_ask_comments = total_ask_comments + num_com\n",
    "    \n",
    "avg_ask_comments = total_ask_comments / len(ask_posts)\n",
    "print('Average number of comments per Ask post: ', avg_ask_comments)\n",
    "\n",
    "#Calculate average number of comments per Show post\n",
    "total_show_comments = 0\n",
    "for row in show_posts:\n",
    "    num_com = int(row[4])\n",
    "    total_show_comments = total_show_comments + num_com\n",
    "\n",
    "avg_show_comments = total_show_comments / len(show_posts)\n",
    "print('Average number of comments per Show post: ', avg_show_comments)"
   ]
  },
  {
   "cell_type": "markdown",
   "metadata": {},
   "source": [
    "As we can see, the Ask posts receive 4 more comments on average than Show posts. \n",
    "\n",
    "This may be explained by the fact that a question invites for active involvement from the reader. Whereas a curious fact or other kind of info shared under Show HN title, does not necessarily provoke comment, even if it is very much liked by the audience.  \n",
    "\n"
   ]
  },
  {
   "cell_type": "markdown",
   "metadata": {},
   "source": [
    "## Best time to post\n",
    "\n",
    "Our next question is whether posts published at a certain time receive more comments. To find this out, I will work with Ask HN posts that already showed to be most popular.\n",
    "I will need the datetime module to complete this task."
   ]
  },
  {
   "cell_type": "code",
   "execution_count": 5,
   "metadata": {
    "scrolled": true
   },
   "outputs": [
    {
     "name": "stdout",
     "output_type": "stream",
     "text": [
      "{'09': 45, '13': 85, '10': 59, '14': 107, '16': 108, '23': 68, '12': 73, '17': 100, '15': 116, '21': 109, '20': 80, '02': 58, '18': 108, '03': 54, '05': 46, '19': 110, '01': 60, '22': 71, '08': 48, '04': 47, '00': 54, '06': 44, '07': 34, '11': 58}\n",
      "\n",
      "\n",
      "{'09': 251, '13': 1253, '10': 793, '14': 1416, '16': 1814, '23': 543, '12': 687, '17': 1146, '15': 4477, '21': 1745, '20': 1722, '02': 1381, '18': 1430, '03': 421, '05': 464, '19': 1188, '01': 683, '22': 479, '08': 492, '04': 337, '00': 439, '06': 397, '07': 267, '11': 641}\n"
     ]
    }
   ],
   "source": [
    "#Create a list of lists with only time and number of comments\n",
    "\n",
    "import datetime as dt\n",
    "result_list = []\n",
    "for row in ask_posts:\n",
    "    time = row [6]\n",
    "    nc = int(row [4])\n",
    "    result_list.append([time,nc])\n",
    "    \n",
    "#Create a frequency table for each hour and \n",
    "#a dictionary with number of comments by hour\n",
    "\n",
    "counts_by_hour = {}\n",
    "comments_by_hour = {}\n",
    "date_format = \"%m/%d/%Y %H:%M\"\n",
    "for row in result_list:\n",
    "    date = row[0]\n",
    "    ncom = row[1]\n",
    "    hour = dt.datetime.strptime(date, date_format).strftime(\"%H\")\n",
    "    if hour not in counts_by_hour:\n",
    "        counts_by_hour[hour] = 1\n",
    "        comments_by_hour[hour] = ncom\n",
    "    else:\n",
    "        counts_by_hour[hour] += 1\n",
    "        comments_by_hour[hour] += ncom\n",
    "        \n",
    "print (counts_by_hour)\n",
    "print('\\n')\n",
    "print (comments_by_hour)\n",
    "    \n",
    "    \n"
   ]
  },
  {
   "cell_type": "markdown",
   "metadata": {},
   "source": [
    "Above I created two dictionaries: one with amount of posts created at a specific hour of the day, and another with the sum number of comments received by those posts. \n",
    "Below I will calculate the average amount of comments by hour when a post was created. "
   ]
  },
  {
   "cell_type": "code",
   "execution_count": 6,
   "metadata": {
    "scrolled": false
   },
   "outputs": [
    {
     "name": "stdout",
     "output_type": "stream",
     "text": [
      "Average number of comments by hour\n",
      "\n",
      "\n",
      "09 5.5777777777777775\n",
      "13 14.741176470588234\n",
      "10 13.440677966101696\n",
      "14 13.233644859813085\n",
      "16 16.796296296296298\n",
      "23 7.985294117647059\n",
      "12 9.41095890410959\n",
      "17 11.46\n",
      "15 38.5948275862069\n",
      "21 16.009174311926607\n",
      "20 21.525\n",
      "02 23.810344827586206\n",
      "18 13.24074074074074\n",
      "03 7.796296296296297\n",
      "05 10.08695652173913\n",
      "19 10.8\n",
      "01 11.383333333333333\n",
      "22 6.746478873239437\n",
      "08 10.25\n",
      "04 7.170212765957447\n",
      "00 8.12962962962963\n",
      "06 9.022727272727273\n",
      "07 7.852941176470588\n",
      "11 11.051724137931034\n"
     ]
    }
   ],
   "source": [
    "#Calculate average num of comments by hour\n",
    "avg_by_hour = []\n",
    "for hour in comments_by_hour:\n",
    "    avg_com = comments_by_hour[hour] / counts_by_hour[hour]\n",
    "    avg_by_hour.append([hour,avg_com])    \n",
    "\n",
    "#Display the results as a table\n",
    "print('Average number of comments by hour')\n",
    "print('\\n')\n",
    "for row in avg_by_hour:\n",
    "    hour = row[0]\n",
    "    average = row[1]\n",
    "    print(hour, average)"
   ]
  },
  {
   "cell_type": "markdown",
   "metadata": {},
   "source": [
    "As I live in Buenos Aires, for this analysis to be useful I need to convert the time from Eastern USA time to Buenos Aires. Luckily, there is only one hour of difference."
   ]
  },
  {
   "cell_type": "code",
   "execution_count": 7,
   "metadata": {},
   "outputs": [],
   "source": [
    "#Convert the time from East US to Argentina \n",
    "for row in avg_by_hour:\n",
    "    hour = int(row[0])\n",
    "    hour_BA = hour + 1\n",
    "    row[0] = str(hour_BA)"
   ]
  },
  {
   "cell_type": "markdown",
   "metadata": {},
   "source": [
    "In order to make comparison between the rows easier, I'll sort the list from the highest number of comments to the lowest."
   ]
  },
  {
   "cell_type": "code",
   "execution_count": 8,
   "metadata": {
    "scrolled": true
   },
   "outputs": [
    {
     "name": "stdout",
     "output_type": "stream",
     "text": [
      "Top 5 Hours for Ask Posts Comments\n",
      "\n",
      "\n",
      "16:00 has 38.59 average comments per post\n",
      "03:00 has 23.81 average comments per post\n",
      "21:00 has 21.52 average comments per post\n",
      "17:00 has 16.80 average comments per post\n",
      "22:00 has 16.01 average comments per post\n"
     ]
    }
   ],
   "source": [
    "swap_avg_by_hour = []\n",
    "for row in avg_by_hour:\n",
    "    first = row[1]\n",
    "    second = row[0]\n",
    "    swap_avg_by_hour.append([first,second])\n",
    "    \n",
    "sorted_swap = sorted(swap_avg_by_hour, reverse =True)\n",
    "\n",
    "\n",
    "print('Top 5 Hours for Ask Posts Comments')\n",
    "print('\\n')\n",
    "import datetime as dt\n",
    "for row in sorted_swap [:5]:\n",
    "    avg_com = row[0]\n",
    "    hour = row[1]\n",
    "    hour_f = dt.datetime.strptime(row[1], '%H').strftime(\"%H:%M\")\n",
    "    print(\"{} has {:.2F} average comments per post\".format (hour_f, avg_com))"
   ]
  },
  {
   "cell_type": "markdown",
   "metadata": {},
   "source": [
    "Looks like if one is to receive more engagement from the readers on Hacker News, three schedules are the best:\n",
    "**between 16 and 18 hours**,   \n",
    "at night **between 21 and 23**,   \n",
    "or at a pre-dawn hour **between 3 and 4am**. \n",
    "\n",
    "***\n",
    "\n",
    "## Conclusion\n",
    "\n",
    "Based on the analysis of a reduced dataset of posts from 2015-2016, for maximum response from the Hacker News community, a person from Argentina is:  \n",
    "- to post a question rather than share something, and    \n",
    "- post it in the afternoon between 16 and 18 hours."
   ]
  }
 ],
 "metadata": {
  "kernelspec": {
   "display_name": "Python 3",
   "language": "python",
   "name": "python3"
  },
  "language_info": {
   "codemirror_mode": {
    "name": "ipython",
    "version": 3
   },
   "file_extension": ".py",
   "mimetype": "text/x-python",
   "name": "python",
   "nbconvert_exporter": "python",
   "pygments_lexer": "ipython3",
   "version": "3.8.8"
  }
 },
 "nbformat": 4,
 "nbformat_minor": 2
}
